{
 "cells": [
  {
   "cell_type": "code",
   "execution_count": null,
   "metadata": {},
   "outputs": [],
   "source": [
    "import sys\n",
    "sys.path.append('/Users/Brandon1')\n",
    "from pythonimports import *\n",
    "%matplotlib inline"
   ]
  },
  {
   "cell_type": "code",
   "execution_count": null,
   "metadata": {},
   "outputs": [],
   "source": [
    "#set this directory for health data and outfiles\n",
    "DIR = '/Users/Brandon1/Desktop/apple_health_export/'"
   ]
  },
  {
   "cell_type": "code",
   "execution_count": null,
   "metadata": {},
   "outputs": [],
   "source": [
    "healthdata = open(op.join(DIR,'export.xml'),'rb')\n",
    "d = healthdata.readlines()"
   ]
  },
  {
   "cell_type": "code",
   "execution_count": null,
   "metadata": {},
   "outputs": [],
   "source": [
    "len(d)"
   ]
  },
  {
   "cell_type": "code",
   "execution_count": null,
   "metadata": {},
   "outputs": [],
   "source": [
    "#each health source starts with 'HKQuantityTypeIdentifier' e.g., 'HKQuantityTypeIdentifierHeartRate"
   ]
  },
  {
   "cell_type": "code",
   "execution_count": null,
   "metadata": {},
   "outputs": [],
   "source": [
    "#info available for each source - some info == \"NA\"\n",
    "srckeys = ['sourceName',\n",
    "           'sourceVersion',\n",
    "           'device',\n",
    "           'unit',\n",
    "           'creationDate',\n",
    "           'creationDate_time',\n",
    "           'startDate',\n",
    "           'startDate_time',\n",
    "           'endDate',\n",
    "           'endDate_time',\n",
    "           'value']"
   ]
  },
  {
   "cell_type": "code",
   "execution_count": null,
   "metadata": {},
   "outputs": [],
   "source": [
    "sp = \" \"\n",
    "data = OrderedDict()\n",
    "lcount = 0\n",
    "srcrecs = OrderedDict()\n",
    "for line in d[84:]:\n",
    "    lcount += 1\n",
    "    if line.startswith(\" <R\"):\n",
    "        splits = line.split(\"<\")[1].split(\"/>\")[0].split(\"\\\" \")\n",
    "        \n",
    "        rtype,src = splits[0].split(\"=\\\"\")\n",
    "        src = \"_\".join([word for word in \"\".join([sp+x if x.isupper() else x for x in src[24:]]).split()])\n",
    "        if not src in data.keys():\n",
    "            data[src] = OrderedDict()\n",
    "        data[src][lcount] = OrderedDict()\n",
    "        \n",
    "        for k in srckeys:\n",
    "            data[src][lcount][k] = \"NA\"\n",
    "\n",
    "        for split in splits[1:]:\n",
    "            rec,val = split.split(\"=\\\"\")\n",
    "            try:\n",
    "                assert rec in data[src][lcount].keys()\n",
    "            except AssertionError:\n",
    "                print \"crap\"\n",
    "            if rec in ['startDate','endDate','creationDate']:\n",
    "                date,time,whoknows = val.split(\" \")\n",
    "                data[src][lcount][rec] = date\n",
    "                data[src][lcount][\"%s_time\" % rec] = time\n",
    "            elif rec == 'device':\n",
    "                dev = [v for v in val.split(\", \") if 'name' in v][0].split(\":\")[1]\n",
    "                data[src][lcount][rec] = dev\n",
    "            elif rec == 'value':\n",
    "                data[src][lcount][rec] = val[:-1]\n",
    "            else:\n",
    "                data[src][lcount][rec] = val\n",
    "    if lcount % 10000 == 0:\n",
    "        print lcount"
   ]
  },
  {
   "cell_type": "markdown",
   "metadata": {},
   "source": [
    "# write out the files"
   ]
  },
  {
   "cell_type": "code",
   "execution_count": null,
   "metadata": {},
   "outputs": [],
   "source": [
    "for src in sorted(data):\n",
    "    filE = op.join(DIR,'%s.txt' % src)\n",
    "    print filE\n",
    "    with open(filE,'wb') as o:\n",
    "        k0 = data[src].keys()[0]\n",
    "        text = '\\t'.join([k for k in data[src][k0].keys()]) + '\\n'\n",
    "        o.write(\"%s\" % text)\n",
    "        for lcount in data[src]:\n",
    "            text = '\\t'.join([k for k in data[src][lcount].values()]) + '\\n'\n",
    "            o.write(\"%s\" % text)"
   ]
  },
  {
   "cell_type": "markdown",
   "metadata": {},
   "source": [
    "# check out the heart rate data"
   ]
  },
  {
   "cell_type": "code",
   "execution_count": null,
   "metadata": {},
   "outputs": [],
   "source": [
    "hr = pd.read_csv(op.join(DIR,'Heart_Rate.txt'),sep='\\t')\n",
    "hr.head()"
   ]
  },
  {
   "cell_type": "code",
   "execution_count": null,
   "metadata": {},
   "outputs": [],
   "source": [
    "#get heart rate values into 10min bins, save dict\n",
    "rate = OrderedDict()\n",
    "for row in hr.index:\n",
    "    ctime = \":\".join([x for x in hr.loc[row,'creationDate_time'].split(\":\")[:-1]])[:-1]\n",
    "    if not ctime in rate:\n",
    "        rate[ctime] = []\n",
    "    rate[ctime].append(hr.loc[row,'value'])\n",
    "filE = op.join(DIR,'heart_rate_10mins.pkl')\n",
    "with open(filE,'wb') as o:\n",
    "    pickle.dump(rate,o,pickle.HIGHEST_PROTOCOL)"
   ]
  },
  {
   "cell_type": "code",
   "execution_count": null,
   "metadata": {},
   "outputs": [],
   "source": [
    "filE = op.join(DIR,'heart_rate_10mins.pkl')\n",
    "rate = pickle.load(open(filE,'rb'))"
   ]
  },
  {
   "cell_type": "code",
   "execution_count": null,
   "metadata": {},
   "outputs": [],
   "source": [
    "#make a fig with average heart rate per bin, and cloud of std (2 periods for continuity)\n",
    "x = pd.date_range('2017-05-10',periods=288,freq='10min')+pd.date_range('2017-05-10',periods=144,freq='10min')\n",
    "y = [np.mean([t for t in rate[time]]) for time in sorted(rate)]+[np.mean([t for t in rate[time]]) for time in sorted(rate)]\n",
    "error = [np.std([t for t in rate[time]]) for time in sorted(rate)]+[np.std([t for t in rate[time]]) for time in sorted(rate)]\n",
    "ymin = []\n",
    "ymax = []\n",
    "for i,Y in enumerate(y):\n",
    "    ymin.append(y[i]-error[i])\n",
    "    ymax.append(y[i]+error[i])\n",
    "\n",
    "fig, ax = plt.subplots(1)\n",
    "fig.autofmt_xdate()\n",
    "fig.set_size_inches(18.5, 10.5)\n",
    "pl.plot(x,y,'k-')\n",
    "pl.fill_between(x,ymin,ymax)\n",
    "xfmt = mdates.DateFormatter('%H:%M')\n",
    "ax.xaxis.set_major_formatter(xfmt)\n",
    "\n",
    "plt.show()"
   ]
  },
  {
   "cell_type": "code",
   "execution_count": null,
   "metadata": {},
   "outputs": [],
   "source": [
    "1+1+1"
   ]
  },
  {
   "cell_type": "code",
   "execution_count": null,
   "metadata": {},
   "outputs": [],
   "source": []
  },
  {
   "cell_type": "code",
   "execution_count": null,
   "metadata": {},
   "outputs": [],
   "source": []
  },
  {
   "cell_type": "code",
   "execution_count": null,
   "metadata": {},
   "outputs": [],
   "source": []
  },
  {
   "cell_type": "code",
   "execution_count": null,
   "metadata": {},
   "outputs": [],
   "source": []
  },
  {
   "cell_type": "code",
   "execution_count": null,
   "metadata": {},
   "outputs": [],
   "source": []
  },
  {
   "cell_type": "code",
   "execution_count": null,
   "metadata": {},
   "outputs": [],
   "source": []
  },
  {
   "cell_type": "code",
   "execution_count": null,
   "metadata": {},
   "outputs": [],
   "source": []
  },
  {
   "cell_type": "code",
   "execution_count": null,
   "metadata": {},
   "outputs": [],
   "source": []
  },
  {
   "cell_type": "code",
   "execution_count": null,
   "metadata": {},
   "outputs": [],
   "source": []
  },
  {
   "cell_type": "code",
   "execution_count": null,
   "metadata": {},
   "outputs": [],
   "source": []
  },
  {
   "cell_type": "code",
   "execution_count": null,
   "metadata": {},
   "outputs": [],
   "source": []
  }
 ],
 "metadata": {
  "anaconda-cloud": {},
  "kernelspec": {
   "display_name": "Python [default]",
   "language": "python",
   "name": "python2"
  },
  "language_info": {
   "codemirror_mode": {
    "name": "ipython",
    "version": 2
   },
   "file_extension": ".py",
   "mimetype": "text/x-python",
   "name": "python",
   "nbconvert_exporter": "python",
   "pygments_lexer": "ipython2",
   "version": "2.7.13"
  }
 },
 "nbformat": 4,
 "nbformat_minor": 2
}
